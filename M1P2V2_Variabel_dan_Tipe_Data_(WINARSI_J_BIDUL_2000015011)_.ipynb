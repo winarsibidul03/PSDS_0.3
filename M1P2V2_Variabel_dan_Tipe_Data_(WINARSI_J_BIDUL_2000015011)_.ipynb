{
  "nbformat": 4,
  "nbformat_minor": 0,
  "metadata": {
    "colab": {
      "name": "M1P2V2_Variabel_dan_Tipe_Data_(WINARSI J. BIDUL 2000015011) .ipynb",
      "provenance": [],
      "collapsed_sections": [],
      "toc_visible": true,
      "authorship_tag": "ABX9TyPCE5atL96X89l6WgwJNk2Z",
      "include_colab_link": true
    },
    "kernelspec": {
      "name": "python3",
      "display_name": "Python 3"
    },
    "language_info": {
      "name": "python"
    }
  },
  "cells": [
    {
      "cell_type": "markdown",
      "metadata": {
        "id": "view-in-github",
        "colab_type": "text"
      },
      "source": [
        "<a href=\"https://colab.research.google.com/github/winarsibidul03/PSDS_0.3/blob/main/M1P2V2_Variabel_dan_Tipe_Data_(WINARSI_J_BIDUL_2000015011)_.ipynb\" target=\"_parent\"><img src=\"https://colab.research.google.com/assets/colab-badge.svg\" alt=\"Open In Colab\"/></a>"
      ]
    },
    {
      "cell_type": "markdown",
      "metadata": {
        "id": "33UimPyEjPnK"
      },
      "source": [
        "**NAMA : WINARSI J. BIDUL**\n",
        "\n",
        "**NIM : 2000015011**\n",
        "\n",
        "**KELAS DASAR**"
      ]
    },
    {
      "cell_type": "markdown",
      "metadata": {
        "id": "E_HjFXEZnWyd"
      },
      "source": [
        "# Variabel & Tipe Data "
      ]
    },
    {
      "cell_type": "markdown",
      "metadata": {
        "id": "9ZApABehnaSI"
      },
      "source": [
        "##Variabel"
      ]
    },
    {
      "cell_type": "markdown",
      "metadata": {
        "id": "REQZ5MIdnhOg"
      },
      "source": [
        "Variables: Lokal penyimpanan yang dapat digunakan untuk menampung sebuah data atau informasi.\n",
        "Syarat syarat penamaan variabel \n",
        "1.   Karakter karakter yang digunakan untuk penamaan variable adalah alphabet, angka dan underscore.\n",
        "2.   Karakter pertama variabel harus berupa huruf atau garis bawah/underscore, dan tidak bisa berupa angka \n",
        "3. Nama sebuah variabel tidak bisa menggunakan keyword atau reserved words dari bahasa python seperti for, if dan lainnya \n",
        "4. Karakter pada nama variabel bersifat sensitif (case-sensitif)\n"
      ]
    },
    {
      "cell_type": "code",
      "metadata": {
        "id": "gjsBaOIxpjji"
      },
      "source": [
        "# membuat variabel \n",
        "kalimat ='ini adalah variabel'\n",
        "bilangan1 = 4\n",
        "bilangan2 = 2.5\n",
        "bilangan3 = True\n",
        "bilangan4 = 1j + 4"
      ],
      "execution_count": null,
      "outputs": []
    },
    {
      "cell_type": "code",
      "metadata": {
        "colab": {
          "base_uri": "https://localhost:8080/"
        },
        "id": "po8qhON5qHt-",
        "outputId": "dc89e436-baf8-491d-bacc-b72edbae30a3"
      },
      "source": [
        "# menampilkan variabel \n",
        "print(kalimat)\n",
        "print(bilangan1)\n",
        "print(bilangan2)"
      ],
      "execution_count": null,
      "outputs": [
        {
          "output_type": "stream",
          "name": "stdout",
          "text": [
            "ini adalah variabel\n",
            "4\n",
            "2.5\n"
          ]
        }
      ]
    },
    {
      "cell_type": "markdown",
      "metadata": {
        "id": "5j6f4qeVt-_n"
      },
      "source": [
        "Latihan 1"
      ]
    },
    {
      "cell_type": "code",
      "metadata": {
        "id": "0rXGHh9IuWyh"
      },
      "source": [
        "# buatlah 5 variabel kalian sendiri dengan 5 macam tipe data \n",
        "# lalu tampilkan variabel menggunakan fungsi print"
      ],
      "execution_count": null,
      "outputs": []
    },
    {
      "cell_type": "markdown",
      "metadata": {
        "id": "T8Bg2h5hug-3"
      },
      "source": [
        "##Tipe Data"
      ]
    },
    {
      "cell_type": "markdown",
      "metadata": {
        "id": "lFpUveuLu43l"
      },
      "source": [
        "5 tipe data yaitu\n",
        "1.   Integr atau bilangan bulat \n",
        "2.   Float atau bilangan desimal \n",
        "3. string atau kalimat \n",
        "4. Boolean yang terdiri dari True dan False \n",
        "5. Complex yang merupakan bilangan kompleks\n",
        "\n"
      ]
    },
    {
      "cell_type": "code",
      "metadata": {
        "colab": {
          "base_uri": "https://localhost:8080/"
        },
        "id": "b5Pjnc8hxhol",
        "outputId": "449e209f-5117-4166-9306-f1ab974d752e"
      },
      "source": [
        "# menampilkan tipe data\n",
        "print(type(kalimat))\n",
        "print(type(bilangan1))\n",
        "print(type(bilangan2))\n",
        "print(type(bilangan3))\n",
        "print(type(bilangan4))"
      ],
      "execution_count": null,
      "outputs": [
        {
          "output_type": "stream",
          "name": "stdout",
          "text": [
            "<class 'str'>\n",
            "<class 'int'>\n",
            "<class 'float'>\n",
            "<class 'bool'>\n",
            "<class 'complex'>\n"
          ]
        }
      ]
    },
    {
      "cell_type": "markdown",
      "metadata": {
        "id": "I2ozTjcryGAC"
      },
      "source": [
        "Latihan 2"
      ]
    },
    {
      "cell_type": "code",
      "metadata": {
        "id": "csgJkA_zyIQz"
      },
      "source": [
        "# cek tipe data variabel yang telah kalian buat pada latihan"
      ],
      "execution_count": null,
      "outputs": []
    },
    {
      "cell_type": "markdown",
      "metadata": {
        "id": "0mMBY6rdyYtb"
      },
      "source": [
        "##Konversi Tipe Data"
      ]
    },
    {
      "cell_type": "markdown",
      "metadata": {
        "id": "15S8RHuhyeDm"
      },
      "source": [
        "syntax konversi tipe data\n",
        "1.   Integer = int()\n",
        "2.   Float = float()\n",
        "3. String = str()\n",
        "4. Boolean = bool()\n",
        "5. Complex = Complex() \n",
        "\n"
      ]
    },
    {
      "cell_type": "code",
      "metadata": {
        "colab": {
          "base_uri": "https://localhost:8080/"
        },
        "id": "wZKwD9gGzHtz",
        "outputId": "3cbc58dd-d575-495a-f42d-73228f68275b"
      },
      "source": [
        "# konversi tipe data integer\n",
        "print(int(bilangan2))\n",
        "print(int(bilangan3))"
      ],
      "execution_count": null,
      "outputs": [
        {
          "output_type": "stream",
          "name": "stdout",
          "text": [
            "2\n",
            "1\n"
          ]
        }
      ]
    },
    {
      "cell_type": "code",
      "metadata": {
        "colab": {
          "base_uri": "https://localhost:8080/"
        },
        "id": "ks58Nbn70RrV",
        "outputId": "ee34dd72-5cc4-480f-828a-c83d16646615"
      },
      "source": [
        "# konversi tipe data float\n",
        "print(float(bilangan1))\n",
        "print(float(bilangan3))"
      ],
      "execution_count": null,
      "outputs": [
        {
          "output_type": "stream",
          "name": "stdout",
          "text": [
            "4.0\n",
            "1.0\n"
          ]
        }
      ]
    },
    {
      "cell_type": "code",
      "metadata": {
        "colab": {
          "base_uri": "https://localhost:8080/"
        },
        "id": "wRxEKt_V0p8Q",
        "outputId": "9c099949-0e97-4091-cdf2-d55c3d567378"
      },
      "source": [
        "# konversi tipe data string \n",
        "print(str(bilangan1))\n",
        "print(str(bilangan2))\n",
        "print(str(bilangan3))"
      ],
      "execution_count": null,
      "outputs": [
        {
          "output_type": "stream",
          "name": "stdout",
          "text": [
            "4\n",
            "2.5\n",
            "True\n"
          ]
        }
      ]
    },
    {
      "cell_type": "code",
      "metadata": {
        "colab": {
          "base_uri": "https://localhost:8080/"
        },
        "id": "duu5dtDQ1TlX",
        "outputId": "aafefc27-1d90-4ba9-f6f5-f702466ae0d0"
      },
      "source": [
        "# konversi tipe data bool\n",
        "print(bool(bilangan1))\n",
        "print(bool(bilangan2))"
      ],
      "execution_count": null,
      "outputs": [
        {
          "output_type": "stream",
          "name": "stdout",
          "text": [
            "True\n",
            "True\n"
          ]
        }
      ]
    },
    {
      "cell_type": "code",
      "metadata": {
        "colab": {
          "base_uri": "https://localhost:8080/"
        },
        "id": "FWirAh7h1zXR",
        "outputId": "b07510fd-02b1-484d-a5a4-2b82899dd4b4"
      },
      "source": [
        "# konversi tipe data complex\n",
        "print(complex(bilangan1))\n",
        "print(complex(bilangan2))\n",
        "print(complex(bilangan3))"
      ],
      "execution_count": null,
      "outputs": [
        {
          "output_type": "stream",
          "name": "stdout",
          "text": [
            "(4+0j)\n",
            "(2.5+0j)\n",
            "(1+0j)\n"
          ]
        }
      ]
    },
    {
      "cell_type": "markdown",
      "metadata": {
        "id": "gDRMrqcL2M6e"
      },
      "source": [
        "Latihan 3"
      ]
    },
    {
      "cell_type": "code",
      "metadata": {
        "id": "4pXkFgMQ2O8F"
      },
      "source": [
        "# konversi tipe data yang telah kalian buat\n",
        "# menjadi berbagai macam tipe data"
      ],
      "execution_count": null,
      "outputs": []
    },
    {
      "cell_type": "markdown",
      "metadata": {
        "id": "ht6pIdSCiKyB"
      },
      "source": [
        "# LATIHAN "
      ]
    },
    {
      "cell_type": "markdown",
      "metadata": {
        "id": "zCUlxe3yiOQd"
      },
      "source": [
        "##Latihan 1"
      ]
    },
    {
      "cell_type": "code",
      "metadata": {
        "id": "dotqXxgNiU1a"
      },
      "source": [
        "# buatlah 5 variabel kalian sendiri dengan 5 macam tipe data \n",
        "kalimat = '5 variabel dengan 5 macam tipe data'\n",
        "variabel1 = 10\n",
        "variabel2 = 3.4 \n",
        "variabel3 = False\n",
        "variabel4 = 2j + 3\n"
      ],
      "execution_count": null,
      "outputs": []
    },
    {
      "cell_type": "code",
      "metadata": {
        "colab": {
          "base_uri": "https://localhost:8080/"
        },
        "id": "ZOc9kKhTyhqF",
        "outputId": "37f98e17-4341-4765-f9fa-30aae8888953"
      },
      "source": [
        "# tampilkan variabel menggunakan fungsi print\n",
        "print(kalimat)\n",
        "print(variabel1)\n",
        "print(variabel2)\n",
        "print(variabel3)\n",
        "print(variabel4)"
      ],
      "execution_count": null,
      "outputs": [
        {
          "output_type": "stream",
          "name": "stdout",
          "text": [
            "5 variabel dengan 5 macam tipe data\n",
            "10\n",
            "3.4\n",
            "False\n",
            "(3+2j)\n"
          ]
        }
      ]
    },
    {
      "cell_type": "markdown",
      "metadata": {
        "id": "q7TipD-xEMk0"
      },
      "source": [
        "##Latihan 2"
      ]
    },
    {
      "cell_type": "code",
      "metadata": {
        "colab": {
          "base_uri": "https://localhost:8080/"
        },
        "id": "NXsWOPMUEQHF",
        "outputId": "1edc7fc9-e1d6-4cbb-f2f0-5a2bfd46604f"
      },
      "source": [
        "# cek tipe data variabel yang telah kalian buat pada latihan\n",
        "print(type(kalimat))\n",
        "print(type(variabel1))\n",
        "print(type(variabel2))\n",
        "print(type(variabel3))\n",
        "print(type(variabel4))\n"
      ],
      "execution_count": null,
      "outputs": [
        {
          "output_type": "stream",
          "name": "stdout",
          "text": [
            "<class 'str'>\n",
            "<class 'int'>\n",
            "<class 'float'>\n",
            "<class 'bool'>\n",
            "<class 'complex'>\n"
          ]
        }
      ]
    },
    {
      "cell_type": "markdown",
      "metadata": {
        "id": "Mh-CID2cEoUG"
      },
      "source": [
        "## Latihan 3"
      ]
    },
    {
      "cell_type": "code",
      "metadata": {
        "id": "X_WJ2TzoEsC3"
      },
      "source": [
        "# konversi tipe data yang telah kalian buat\n",
        "# menjadi berbagai macam tipe data"
      ],
      "execution_count": null,
      "outputs": []
    },
    {
      "cell_type": "code",
      "metadata": {
        "colab": {
          "base_uri": "https://localhost:8080/"
        },
        "id": "E-pV2WIbFSAG",
        "outputId": "15affef4-a085-4d49-e886-d73151d436d8"
      },
      "source": [
        "# konversi tipe data integer\n",
        "print(int(variabel1))\n",
        "print(int(variabel2))\n",
        "print(int(variabel3))"
      ],
      "execution_count": null,
      "outputs": [
        {
          "output_type": "stream",
          "name": "stdout",
          "text": [
            "10\n",
            "3\n",
            "0\n"
          ]
        }
      ]
    },
    {
      "cell_type": "code",
      "metadata": {
        "colab": {
          "base_uri": "https://localhost:8080/"
        },
        "id": "GRtFaS2LF06h",
        "outputId": "68d59c7a-103b-480a-900d-cb157b1301ba"
      },
      "source": [
        "# konversi tipe data float\n",
        "print(float(variabel1))\n",
        "print(float(variabel2))\n",
        "print(float(variabel3))\n"
      ],
      "execution_count": null,
      "outputs": [
        {
          "output_type": "stream",
          "name": "stdout",
          "text": [
            "10.0\n",
            "3.4\n",
            "0.0\n"
          ]
        }
      ]
    },
    {
      "cell_type": "code",
      "metadata": {
        "colab": {
          "base_uri": "https://localhost:8080/"
        },
        "id": "XjrxsJzkGaAs",
        "outputId": "f8358c2a-0786-46f4-91fd-c4b2dcc00567"
      },
      "source": [
        "# konversi tipe data string \n",
        "print(str(kalimat))\n",
        "print(str(variabel1))\n",
        "print(str(variabel2))\n",
        "print(str(variabel3))\n",
        "print(str(variabel4))\n"
      ],
      "execution_count": null,
      "outputs": [
        {
          "output_type": "stream",
          "name": "stdout",
          "text": [
            "5 variabel dengan 5 macam tipe data\n",
            "10\n",
            "3.4\n",
            "False\n",
            "(3+2j)\n"
          ]
        }
      ]
    },
    {
      "cell_type": "code",
      "metadata": {
        "colab": {
          "base_uri": "https://localhost:8080/"
        },
        "id": "gFJ0thQ8G2kx",
        "outputId": "085663f9-7863-455b-afe9-a1256b7108cf"
      },
      "source": [
        "# konversi tipe data bool\n",
        "print(bool(kalimat))\n",
        "print(bool(variabel1))\n",
        "print(bool(variabel2))\n",
        "print(bool(variabel3))\n",
        "print(bool(variabel4))\n"
      ],
      "execution_count": null,
      "outputs": [
        {
          "output_type": "stream",
          "name": "stdout",
          "text": [
            "True\n",
            "True\n",
            "True\n",
            "False\n",
            "True\n"
          ]
        }
      ]
    },
    {
      "cell_type": "code",
      "metadata": {
        "colab": {
          "base_uri": "https://localhost:8080/"
        },
        "id": "GEFbg1KFHX4H",
        "outputId": "d867f0f8-efc5-4c3e-fb45-227f75644368"
      },
      "source": [
        "# konversi tipe data complex\n",
        "print(complex(variabel1))\n",
        "print(complex(variabel2))\n",
        "print(complex(variabel3))\n",
        "print(complex(variabel4))\n"
      ],
      "execution_count": null,
      "outputs": [
        {
          "output_type": "stream",
          "name": "stdout",
          "text": [
            "(10+0j)\n",
            "(3.4+0j)\n",
            "0j\n",
            "(3+2j)\n"
          ]
        }
      ]
    }
  ]
}