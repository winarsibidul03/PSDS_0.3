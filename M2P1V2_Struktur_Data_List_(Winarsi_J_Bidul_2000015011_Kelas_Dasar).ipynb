{
  "nbformat": 4,
  "nbformat_minor": 0,
  "metadata": {
    "colab": {
      "name": "M2P1V2_Struktur_Data_List_(Winarsi J. Bidul 2000015011_Kelas Dasar).ipynb",
      "provenance": [],
      "collapsed_sections": [],
      "toc_visible": true,
      "include_colab_link": true
    },
    "kernelspec": {
      "display_name": "Python 3",
      "name": "python3"
    }
  },
  "cells": [
    {
      "cell_type": "markdown",
      "metadata": {
        "id": "view-in-github",
        "colab_type": "text"
      },
      "source": [
        "<a href=\"https://colab.research.google.com/github/winarsibidul03/PSDS_0.3/blob/main/M2P1V2_Struktur_Data_List_(Winarsi_J_Bidul_2000015011_Kelas_Dasar).ipynb\" target=\"_parent\"><img src=\"https://colab.research.google.com/assets/colab-badge.svg\" alt=\"Open In Colab\"/></a>"
      ]
    },
    {
      "cell_type": "markdown",
      "metadata": {
        "id": "q8Ap2Vf5YQv0"
      },
      "source": [
        "**NAMA : WINARSI J. BIDUL**\n",
        "\n",
        "**NIM : 2000015011**\n",
        "\n",
        "**KELAS DASAR**\n",
        "\n",
        "\n",
        "---\n",
        "\n"
      ]
    },
    {
      "cell_type": "markdown",
      "metadata": {
        "id": "BgvUFQR3M1d2"
      },
      "source": [
        "#List"
      ]
    },
    {
      "cell_type": "markdown",
      "metadata": {
        "id": "BsYtWVP4NJHD"
      },
      "source": [
        "List adalah jenis kumpulan data terurut (ordered sequence) dan merupakan salah satu dari variabel yang sering digunakan di phyton. Serupa namun tak sama dengan array pada bahasa pemrograman. Bedanya, elemen List pada Phyton tidak harus memiliki tipe data yang sama. Mendeklarasikan List cukup mudah dengan kurung siku dan elemen yang dipisahkan dengan koma. Setiap data didalamnya dapat diakses dengan indeks  yang dimulai dari 0."
      ]
    },
    {
      "cell_type": "code",
      "metadata": {
        "id": "XzlVlSDXNfCE",
        "colab": {
          "base_uri": "https://localhost:8080/"
        },
        "outputId": "352c267c-f942-4ad3-aa85-de41de662a56"
      },
      "source": [
        "#Contoh List\n",
        "L1 = [1, 4, 2, 13]\n",
        "\n",
        "print(type(L1))"
      ],
      "execution_count": null,
      "outputs": [
        {
          "output_type": "stream",
          "name": "stdout",
          "text": [
            "<class 'list'>\n"
          ]
        }
      ]
    },
    {
      "cell_type": "code",
      "metadata": {
        "id": "jPTNTAAyNq0c",
        "colab": {
          "base_uri": "https://localhost:8080/"
        },
        "outputId": "f4eadb0b-4a25-4b7f-e1ee-a4beb33952c3"
      },
      "source": [
        "L2 = [\"a\",\"Python\",3]\n",
        "L2"
      ],
      "execution_count": null,
      "outputs": [
        {
          "output_type": "execute_result",
          "data": {
            "text/plain": [
              "['a', 'Python', 3]"
            ]
          },
          "metadata": {},
          "execution_count": 2
        }
      ]
    },
    {
      "cell_type": "code",
      "metadata": {
        "id": "SlEQ8EL5NskE",
        "colab": {
          "base_uri": "https://localhost:8080/"
        },
        "outputId": "ba1d5237-d290-4edc-fa5f-9bed70344541"
      },
      "source": [
        "print(L1)\n",
        "print(L2)"
      ],
      "execution_count": null,
      "outputs": [
        {
          "output_type": "stream",
          "name": "stdout",
          "text": [
            "[1, 4, 2, 13]\n",
            "['a', 'Python', 3]\n"
          ]
        }
      ]
    },
    {
      "cell_type": "markdown",
      "metadata": {
        "id": "DDr98FgmOHiC"
      },
      "source": [
        "## Latihan 1"
      ]
    },
    {
      "cell_type": "code",
      "metadata": {
        "id": "ih79uSKfN019",
        "colab": {
          "base_uri": "https://localhost:8080/"
        },
        "outputId": "4e434d0c-0d41-4d9a-99bb-ea5016de6352"
      },
      "source": [
        "#Buatlah List kalian sendiri\n",
        "A1 = [3,4,2,1,3,2,1]\n",
        "\n",
        "print(type(A1))\n",
        "\n",
        "A2 = [\"I\",\"love\",\"math\",3000]\n",
        "A2\n"
      ],
      "execution_count": null,
      "outputs": [
        {
          "output_type": "stream",
          "name": "stdout",
          "text": [
            "<class 'list'>\n"
          ]
        },
        {
          "output_type": "execute_result",
          "data": {
            "text/plain": [
              "['I', 'love', 'math', 3000]"
            ]
          },
          "metadata": {},
          "execution_count": 19
        }
      ]
    },
    {
      "cell_type": "code",
      "metadata": {
        "id": "JykRhHUJP6TI",
        "colab": {
          "base_uri": "https://localhost:8080/"
        },
        "outputId": "18141e77-e570-4d44-a5d4-1c644ebc93f9"
      },
      "source": [
        "print(A1)\n",
        "print(A2)"
      ],
      "execution_count": null,
      "outputs": [
        {
          "output_type": "stream",
          "name": "stdout",
          "text": [
            "[3, 4, 2, 1, 3, 2, 1]\n",
            "['I', 'love', 'math', 3000]\n"
          ]
        }
      ]
    },
    {
      "cell_type": "markdown",
      "metadata": {
        "id": "xgJ9ND2kQJy0"
      },
      "source": [
        "Indeks di Python(List, Tuple) mulai dari 0"
      ]
    },
    {
      "cell_type": "code",
      "metadata": {
        "id": "icYrBnI-QLPb",
        "colab": {
          "base_uri": "https://localhost:8080/"
        },
        "outputId": "fc64982a-ae41-470b-cd9d-d6f503bb2de9"
      },
      "source": [
        "#Sifat sifat List\n",
        "\n",
        "#Terurut / Ordered\n",
        "print(\"Memanggil List L1 dengan indeks ururtan:\", L1[0:3])\n",
        "\n",
        "#Bisa Diganti / Mutable\n",
        "L1[1] = 2\n",
        "print(\"List L1 setelah diganti elemennya:\", L1)\n",
        "\n",
        "L1 = [1, \"dua\", True, 2+3j]\n",
        "\n",
        "#Dapat Diindeks  / Slicing\n",
        "print(\"Slicing  List L1:\", L1[3])\n",
        "\n",
        "#Dapat Diijinkan Duplikasi \n",
        "L1 = [1, \"dua\", True, 2+3j, 2+3j]\n",
        "print(\"Duplikasi pada List L1:\", L1)"
      ],
      "execution_count": null,
      "outputs": [
        {
          "output_type": "stream",
          "name": "stdout",
          "text": [
            "Memanggil List L1 dengan indeks ururtan: [1, 4, 2]\n",
            "List L1 setelah diganti elemennya: [1, 2, 2, 13]\n",
            "Slicing  List L1: (2+3j)\n",
            "Duplikasi pada List L1: [1, 'dua', True, (2+3j), (2+3j)]\n"
          ]
        }
      ]
    },
    {
      "cell_type": "markdown",
      "metadata": {
        "id": "YgrAL_Z6Qv1O"
      },
      "source": [
        "##Latihan 2"
      ]
    },
    {
      "cell_type": "code",
      "metadata": {
        "id": "emWmO5Q6Q3uf",
        "colab": {
          "base_uri": "https://localhost:8080/"
        },
        "outputId": "8a48d591-99b8-4129-f983-0ebf96a781f3"
      },
      "source": [
        "#Ganti elemen yang ada pada List yang kalian buat\n",
        "\n",
        "#Terurut / Ordered\n",
        "print(\"Memanggil List A1 dengan indeks ururtan:\", A1[0:6])\n",
        "\n",
        "#Bisa Diganti / Mutable\n",
        "A1[1] = 10\n",
        "print(\"List A1 setelah diganti elemennya:\", A1)\n",
        "\n",
        "A1 = [3, \"empat\", True, 6+9j]\n",
        "\n",
        "#Dapat Diindeks  / Slicing\n",
        "print(\"Slicing  List A1:\", A1[2])\n",
        "\n",
        "#Dapat Diijinkan Duplikasi \n",
        "A1 = [2, \"empat\", True, 6+9j, 6+9j]\n",
        "print(\"Duplikasi pada List A1:\", A1)"
      ],
      "execution_count": null,
      "outputs": [
        {
          "output_type": "stream",
          "name": "stdout",
          "text": [
            "Memanggil List A1 dengan indeks ururtan: [2, 'empat', True, (6+9j), (6+9j)]\n",
            "List A1 setelah diganti elemennya: [2, 10, True, (6+9j), (6+9j)]\n",
            "Slicing  List A1: True\n",
            "Duplikasi pada List A1: [2, 'empat', True, (6+9j), (6+9j)]\n"
          ]
        }
      ]
    }
  ]
}