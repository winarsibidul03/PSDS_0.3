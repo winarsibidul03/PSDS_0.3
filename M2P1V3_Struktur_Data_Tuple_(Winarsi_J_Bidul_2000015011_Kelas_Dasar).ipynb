{
  "nbformat": 4,
  "nbformat_minor": 0,
  "metadata": {
    "colab": {
      "name": "M2P1V3_Struktur_Data_Tuple_(Winarsi J. Bidul 2000015011_Kelas Dasar).ipynb",
      "provenance": [],
      "collapsed_sections": [],
      "toc_visible": true,
      "include_colab_link": true
    },
    "kernelspec": {
      "display_name": "Python 3",
      "name": "python3"
    }
  },
  "cells": [
    {
      "cell_type": "markdown",
      "metadata": {
        "id": "view-in-github",
        "colab_type": "text"
      },
      "source": [
        "<a href=\"https://colab.research.google.com/github/winarsibidul03/PSDS_0.3/blob/main/M2P1V3_Struktur_Data_Tuple_(Winarsi_J_Bidul_2000015011_Kelas_Dasar).ipynb\" target=\"_parent\"><img src=\"https://colab.research.google.com/assets/colab-badge.svg\" alt=\"Open In Colab\"/></a>"
      ]
    },
    {
      "cell_type": "markdown",
      "metadata": {
        "id": "gm8BjhfXYxjv"
      },
      "source": [
        "**NAMA : WINARSI J. BIDUL**\n",
        "\n",
        "**NIM : 2000015011**\n",
        "\n",
        "**KELAS DASAR**\n",
        "\n",
        "\n",
        "---\n",
        "\n"
      ]
    },
    {
      "cell_type": "markdown",
      "metadata": {
        "id": "eVoXT_J_Y1nT"
      },
      "source": [
        "#Struktur Data Tuple"
      ]
    },
    {
      "cell_type": "markdown",
      "metadata": {
        "id": "dmBwoR1QY7Ft"
      },
      "source": [
        "Tuple adalah jenis dari struktur data yang tidak dapat diubah elemennya. Umumnya tuple digunakan untuk data yang bersifat sekali tulis dan dapat dieksekusi lebih cepat. Tuple didefinisikan dengan kurung dan elemen yang dipisahkan dengan koma. "
      ]
    },
    {
      "cell_type": "code",
      "metadata": {
        "id": "xSLZpQjqZFEt",
        "colab": {
          "base_uri": "https://localhost:8080/"
        },
        "outputId": "8632dabc-8a07-4bab-a86b-f4a919b42449"
      },
      "source": [
        "#Contoh Tuple\n",
        "T1 = (1, \"dua\", True, 1+2j)\n",
        "print(\"Ini adalah Tuple\", T1)"
      ],
      "execution_count": null,
      "outputs": [
        {
          "output_type": "stream",
          "name": "stdout",
          "text": [
            "Ini adalah Tuple (1, 'dua', True, (1+2j))\n"
          ]
        }
      ]
    },
    {
      "cell_type": "code",
      "metadata": {
        "id": "O65m7zyuZXmU",
        "colab": {
          "base_uri": "https://localhost:8080/"
        },
        "outputId": "20f89a80-5899-40e2-e69c-e8f9f9db584c"
      },
      "source": [
        "#Menampilkan tipe struktur data\n",
        "type(T1)"
      ],
      "execution_count": null,
      "outputs": [
        {
          "output_type": "execute_result",
          "data": {
            "text/plain": [
              "tuple"
            ]
          },
          "metadata": {},
          "execution_count": 24
        }
      ]
    },
    {
      "cell_type": "markdown",
      "metadata": {
        "id": "HWuxD58LZqEY"
      },
      "source": [
        "##Latihan 1"
      ]
    },
    {
      "cell_type": "code",
      "metadata": {
        "id": "QTWHKsqhZudr",
        "colab": {
          "base_uri": "https://localhost:8080/"
        },
        "outputId": "e8e9ddbe-7c51-4fb5-9231-1d1a95431c28"
      },
      "source": [
        "#Buatlah tuplemu Sendiri\n",
        "\n",
        "B1 = (13, \"empat\", True, 3+4j)\n",
        "print(\"Ini adalah Tuple\", B1)\n",
        "\n",
        "#Menampilkan tipe struktur data\n",
        "type(B1)"
      ],
      "execution_count": null,
      "outputs": [
        {
          "output_type": "stream",
          "name": "stdout",
          "text": [
            "Ini adalah Tuple (13, 'empat', True, (3+4j))\n"
          ]
        },
        {
          "output_type": "execute_result",
          "data": {
            "text/plain": [
              "tuple"
            ]
          },
          "metadata": {},
          "execution_count": 31
        }
      ]
    },
    {
      "cell_type": "markdown",
      "metadata": {
        "id": "OBJsx70DZ3UR"
      },
      "source": [
        "#Sifat Sifat Tuple"
      ]
    },
    {
      "cell_type": "code",
      "metadata": {
        "id": "nykAok37bUCS",
        "colab": {
          "base_uri": "https://localhost:8080/"
        },
        "outputId": "c2cc5d31-8b9f-4967-afee-df04f823b5ae"
      },
      "source": [
        "#Terurut / Ordered\n",
        "T1[0:3]"
      ],
      "execution_count": null,
      "outputs": [
        {
          "output_type": "execute_result",
          "data": {
            "text/plain": [
              "(1, 'dua', True)"
            ]
          },
          "metadata": {},
          "execution_count": 26
        }
      ]
    },
    {
      "cell_type": "code",
      "metadata": {
        "id": "saafU6PJbY2h",
        "colab": {
          "base_uri": "https://localhost:8080/",
          "height": 183
        },
        "outputId": "e2d7df48-1f11-4495-a3ce-4ac06f3fec63"
      },
      "source": [
        "#Tidak bisa diganti / Immutable\n",
        "T1[2] = \"manusia\""
      ],
      "execution_count": null,
      "outputs": [
        {
          "output_type": "error",
          "ename": "TypeError",
          "evalue": "ignored",
          "traceback": [
            "\u001b[0;31m---------------------------------------------------------------------------\u001b[0m",
            "\u001b[0;31mTypeError\u001b[0m                                 Traceback (most recent call last)",
            "\u001b[0;32m<ipython-input-27-fa4fab5e190e>\u001b[0m in \u001b[0;36m<module>\u001b[0;34m()\u001b[0m\n\u001b[1;32m      1\u001b[0m \u001b[0;31m#Tidak bisa diganti / Immutable\u001b[0m\u001b[0;34m\u001b[0m\u001b[0;34m\u001b[0m\u001b[0;34m\u001b[0m\u001b[0m\n\u001b[0;32m----> 2\u001b[0;31m \u001b[0mT1\u001b[0m\u001b[0;34m[\u001b[0m\u001b[0;36m2\u001b[0m\u001b[0;34m]\u001b[0m \u001b[0;34m=\u001b[0m \u001b[0;34m\"manusia\"\u001b[0m\u001b[0;34m\u001b[0m\u001b[0;34m\u001b[0m\u001b[0m\n\u001b[0m",
            "\u001b[0;31mTypeError\u001b[0m: 'tuple' object does not support item assignment"
          ]
        }
      ]
    },
    {
      "cell_type": "code",
      "metadata": {
        "id": "zbtgxl38cHQn",
        "colab": {
          "base_uri": "https://localhost:8080/"
        },
        "outputId": "69509e2b-cd0e-43e7-d67f-a92b9b72ba07"
      },
      "source": [
        "#Dapat Diindeks / Slicing\n",
        "print(\"elemen kedua dari tuple T1 adalah:\", T1[1])"
      ],
      "execution_count": null,
      "outputs": [
        {
          "output_type": "stream",
          "name": "stdout",
          "text": [
            "elemen kedua dari tuple T1 adalah: dua\n"
          ]
        }
      ]
    },
    {
      "cell_type": "code",
      "metadata": {
        "id": "M6-yeK-7cSZB",
        "colab": {
          "base_uri": "https://localhost:8080/"
        },
        "outputId": "77ce5ace-194a-43dd-9beb-46b309c1e3e7"
      },
      "source": [
        "#Dapat Diijinkan Duplikasi\n",
        "T2 = (3, 2.4, True, 2.4)\n",
        "T2"
      ],
      "execution_count": null,
      "outputs": [
        {
          "output_type": "execute_result",
          "data": {
            "text/plain": [
              "(3, 2.4, True, 2.4)"
            ]
          },
          "metadata": {},
          "execution_count": 29
        }
      ]
    },
    {
      "cell_type": "markdown",
      "metadata": {
        "id": "DJbiuBepce9W"
      },
      "source": [
        "#Menggabungkan Tuple"
      ]
    },
    {
      "cell_type": "code",
      "metadata": {
        "id": "PAktouJAchPZ",
        "colab": {
          "base_uri": "https://localhost:8080/"
        },
        "outputId": "5f36acb2-c1de-4318-a787-5561728ff911"
      },
      "source": [
        "#Menggabungkan Tuple\n",
        "T3 = T1 + T2\n",
        "T3"
      ],
      "execution_count": null,
      "outputs": [
        {
          "output_type": "execute_result",
          "data": {
            "text/plain": [
              "(1, 'dua', True, (1+2j), 3, 2.4, True, 2.4)"
            ]
          },
          "metadata": {},
          "execution_count": 30
        }
      ]
    },
    {
      "cell_type": "markdown",
      "metadata": {
        "id": "PmUZLVbOcs3T"
      },
      "source": [
        "##Latihan 2"
      ]
    },
    {
      "cell_type": "code",
      "metadata": {
        "id": "OO0ErRoEcvEW",
        "colab": {
          "base_uri": "https://localhost:8080/"
        },
        "outputId": "b388bf4e-ce30-422d-950c-78f1b5dac864"
      },
      "source": [
        "#Buatlah tuple kedua lalu gabungkan 2 tuple yang telah kamu buat \n",
        "\n",
        "B2 = (3, 1.3, True, 2.2)\n",
        "B2"
      ],
      "execution_count": null,
      "outputs": [
        {
          "output_type": "execute_result",
          "data": {
            "text/plain": [
              "(3, 1.3, True, 2.2)"
            ]
          },
          "metadata": {},
          "execution_count": 32
        }
      ]
    },
    {
      "cell_type": "code",
      "metadata": {
        "id": "Iiv9jl8Mcy1r",
        "colab": {
          "base_uri": "https://localhost:8080/"
        },
        "outputId": "de3aca09-219b-41b9-bfed-1817a0fb706a"
      },
      "source": [
        "#Menggabungkan antara Tuple1 dan Tuple2\n",
        "B3 = B1 + B2\n",
        "B3"
      ],
      "execution_count": null,
      "outputs": [
        {
          "output_type": "execute_result",
          "data": {
            "text/plain": [
              "(13, 'empat', True, (3+4j), 3, 1.3, True, 2.2)"
            ]
          },
          "metadata": {},
          "execution_count": 33
        }
      ]
    }
  ]
}