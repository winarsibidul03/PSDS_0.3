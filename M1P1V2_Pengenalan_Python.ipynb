{
  "nbformat": 4,
  "nbformat_minor": 0,
  "metadata": {
    "colab": {
      "name": "M1P1V2_Pengenalan_Python.ipynb",
      "provenance": [],
      "toc_visible": true,
      "authorship_tag": "ABX9TyMs9Ck6ItHQXATT76tuhMvX",
      "include_colab_link": true
    },
    "kernelspec": {
      "name": "python3",
      "display_name": "Python 3"
    },
    "language_info": {
      "name": "python"
    }
  },
  "cells": [
    {
      "cell_type": "markdown",
      "metadata": {
        "id": "view-in-github",
        "colab_type": "text"
      },
      "source": [
        "<a href=\"https://colab.research.google.com/github/winarsibidul03/PSDS_0.3/blob/main/M1P1V2_Pengenalan_Python.ipynb\" target=\"_parent\"><img src=\"https://colab.research.google.com/assets/colab-badge.svg\" alt=\"Open In Colab\"/></a>"
      ]
    },
    {
      "cell_type": "markdown",
      "metadata": {
        "id": "mtykaGjTE5xb"
      },
      "source": [
        "**NAMA : WINARSI J. BIDUL**\n",
        "\n",
        "**NIM : 2000015011**\n",
        "\n",
        "**Kelas Dasar**\n",
        "---\n",
        "\n"
      ]
    },
    {
      "cell_type": "markdown",
      "metadata": {
        "id": "ecCM9Vhlu-lr"
      },
      "source": [
        "# Pengenalan Python\n"
      ]
    },
    {
      "cell_type": "markdown",
      "metadata": {
        "id": "i09SeDZvvGOa"
      },
      "source": [
        "Python adalah bahasa pemrograman tingkat tinggi dengan dinamic semantics. bersifat object oriented, dan interpretatif. Bahasa pemrograman ini fokus dikembangkan pada keterbacaan bahasa pemrograman.\n",
        "  1.   **Bahasa Pemrograman Tingkat Tinggi(HIgh Level Programming)** artinya sintaks kode lebih mudah ditafsirkan oleh manusia \n",
        "  2.   **Interpretatif**ini artinya bahasa ini memerlukan intrepeter atau penerjemah. ini memungkinkan bagi kita untuk menggunakan bahasa yang lebih mudah kita pahami \n",
        "  3. **Object Oriented** ini berarti bahwa bahasa pemrograman ini berorientasi kepada objek. hal ini membuat python lebih mudah untuk dikembangkan \n",
        "  4. **Dynamic Semantics** python secara otomatis akan menyesuaikan tipe dari suatu variable berdasarkan inputnya \n",
        "  \n",
        "\n",
        "\n",
        "\n"
      ]
    },
    {
      "cell_type": "markdown",
      "metadata": {
        "id": "8aKdX2Gg0m0U"
      },
      "source": [
        "# Mengapa Python "
      ]
    },
    {
      "cell_type": "markdown",
      "metadata": {
        "id": "grGV0ZeR0wjd"
      },
      "source": [
        "1.  Mudah dipahami \n",
        "2.  Gratis dan Open Source \n",
        "3.  Dinamis\n",
        "4.  Memiliki Library Terlengkap untuk Data Sains \n",
        "\n"
      ]
    },
    {
      "cell_type": "markdown",
      "metadata": {
        "id": "cYfDzRWD1ZnG"
      },
      "source": [
        "# Struktur Program Pada Python"
      ]
    },
    {
      "cell_type": "markdown",
      "metadata": {
        "id": "USxMd7iw2DIz"
      },
      "source": [
        "Python pada umumnya terdiri dari : \n",
        "\n",
        "**1.   Statements**"
      ]
    },
    {
      "cell_type": "code",
      "metadata": {
        "colab": {
          "base_uri": "https://localhost:8080/"
        },
        "id": "PAKPBq7P28v1",
        "outputId": "30ec3c36-410f-459d-8006-4f6eb1ab102e"
      },
      "source": [
        "print(\"belajar python menyenangkan\")\n",
        "print(\"halo dunia\")"
      ],
      "execution_count": null,
      "outputs": [
        {
          "output_type": "stream",
          "name": "stdout",
          "text": [
            "belajar python menyenangkan\n",
            "halo dunia\n"
          ]
        }
      ]
    },
    {
      "cell_type": "markdown",
      "metadata": {
        "id": "BYOrvpxo3ZEu"
      },
      "source": [
        "**2. Variables**"
      ]
    },
    {
      "cell_type": "code",
      "metadata": {
        "id": "eMg-1E093q2J"
      },
      "source": [
        "bilangan1 = 5\n",
        "bilangan2 = 10 \n",
        "kalimat = \"Pejuang Data 3\""
      ],
      "execution_count": null,
      "outputs": []
    },
    {
      "cell_type": "markdown",
      "metadata": {
        "id": "gd_qd6xx8WTz"
      },
      "source": [
        "**3. Literals**: Simbol simbol yang dapat kita gunakan untuk mengisi suatu variabel. "
      ]
    },
    {
      "cell_type": "markdown",
      "metadata": {
        "id": "kGooe1CT9LNo"
      },
      "source": [
        "**4. Operators**: Simbol simbol yang dapat digunakan untuk mengubah nilai dari satu variabel dengan melibatkan satu atau lebih variabel dan literal "
      ]
    },
    {
      "cell_type": "code",
      "metadata": {
        "colab": {
          "base_uri": "https://localhost:8080/"
        },
        "id": "LZ0v0e8w9kNS",
        "outputId": "ab6ec589-133a-4625-ee0c-cd600a8496f6"
      },
      "source": [
        "bilangan1 + bilangan2"
      ],
      "execution_count": null,
      "outputs": [
        {
          "output_type": "execute_result",
          "data": {
            "text/plain": [
              "15"
            ]
          },
          "metadata": {},
          "execution_count": 3
        }
      ]
    },
    {
      "cell_type": "markdown",
      "metadata": {
        "id": "3QwO9MM69wzG"
      },
      "source": [
        "**5. Reserved Words**: Kumpulan kata kata yang memiliki makna khusus dalam bahasa pemrograman python. ```False ```,```return```, dan ```for``` merupakan contoh dari reserved words\n",
        "\n",
        "\n",
        "\n",
        "\n",
        "\n"
      ]
    },
    {
      "cell_type": "markdown",
      "metadata": {
        "id": "DpwZ7KRH-gWb"
      },
      "source": [
        "**6. Whitespace**: Pada bahasa python, spasi dan tab memiliki makna khusus untuk menandai serangkain blok dalam kode python. "
      ]
    },
    {
      "cell_type": "markdown",
      "metadata": {
        "id": "uGEx81-6_mH4"
      },
      "source": [
        "**7. Comments**: Comments merupakan sekumpulan teks yang dituliskan di dalam sebuah program yang tidak akan mempengaruhi hasil dari sebuah program\n",
        "\n"
      ]
    },
    {
      "cell_type": "markdown",
      "metadata": {
        "id": "-kBwctYmBOl_"
      },
      "source": [
        "Terdapat dua jenis comments di dalam python, yaitu: \n",
        "\n",
        "**a. single line comment** (comments dalam satu baris) seperti pada contoh berikut:"
      ]
    },
    {
      "cell_type": "code",
      "metadata": {
        "colab": {
          "base_uri": "https://localhost:8080/"
        },
        "id": "s9JIAA18Bgcf",
        "outputId": "340b8257-1173-485f-dd80-3cfcc0901fd3"
      },
      "source": [
        "# Ini adalah Comment\n",
        "print(\"belajar python\")"
      ],
      "execution_count": null,
      "outputs": [
        {
          "output_type": "stream",
          "name": "stdout",
          "text": [
            "belajar python\n"
          ]
        }
      ]
    },
    {
      "cell_type": "markdown",
      "metadata": {
        "id": "4EtB_kWLBwiB"
      },
      "source": [
        "**b. multi line comment** (comments dalam beberapa baris) yang dapat dituliskan seperti pada contoh berikut: "
      ]
    },
    {
      "cell_type": "code",
      "metadata": {
        "colab": {
          "base_uri": "https://localhost:8080/"
        },
        "id": "kd6YX-Z3CElM",
        "outputId": "37ec6804-2f28-4554-b3b7-fa5bd7efbeff"
      },
      "source": [
        "'''\n",
        "Ini adalah komentar panjang \n",
        "Bisa digunakan untuk memberikan penjelasan \n",
        "panjang pada Sell Kode Python,\n",
        "Misal dokumentasi program, spesifikasi \n",
        "input output atau lainnya \n",
        "'''\n",
        "print('Belajar python menyenangkan')"
      ],
      "execution_count": null,
      "outputs": [
        {
          "output_type": "stream",
          "name": "stdout",
          "text": [
            "Belajar python menyenangkan\n"
          ]
        }
      ]
    }
  ]
}