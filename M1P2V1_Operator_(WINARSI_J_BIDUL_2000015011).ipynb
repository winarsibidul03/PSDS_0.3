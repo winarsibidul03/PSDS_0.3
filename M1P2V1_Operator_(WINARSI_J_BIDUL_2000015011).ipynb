{
  "nbformat": 4,
  "nbformat_minor": 0,
  "metadata": {
    "colab": {
      "name": "M1P2V1_Operator_(WINARSI J. BIDUL 2000015011).ipynb",
      "provenance": [],
      "collapsed_sections": [],
      "toc_visible": true,
      "authorship_tag": "ABX9TyMUByw7pLkqn7AEjWCyU49U",
      "include_colab_link": true
    },
    "kernelspec": {
      "name": "python3",
      "display_name": "Python 3"
    },
    "language_info": {
      "name": "python"
    }
  },
  "cells": [
    {
      "cell_type": "markdown",
      "metadata": {
        "id": "view-in-github",
        "colab_type": "text"
      },
      "source": [
        "<a href=\"https://colab.research.google.com/github/winarsibidul03/PSDS_0.3/blob/main/M1P2V1_Operator_(WINARSI_J_BIDUL_2000015011).ipynb\" target=\"_parent\"><img src=\"https://colab.research.google.com/assets/colab-badge.svg\" alt=\"Open In Colab\"/></a>"
      ]
    },
    {
      "cell_type": "markdown",
      "metadata": {
        "id": "bCoFvVoDiu4Q"
      },
      "source": [
        "**NAMA : WINARSI J. BIDUL**\n",
        "\n",
        "**NIM : 2000015011**\n",
        "\n",
        "**KELAS DASAR**"
      ]
    },
    {
      "cell_type": "markdown",
      "metadata": {
        "id": "jAupcYopz13P"
      },
      "source": [
        "#Operator\n",
        "\n",
        "Operator  simbol simbol yang dapat digunakan untuk mengubah nilai dari satu variabel dengan melibatkan satu atau lebih variabel dan literal.\n",
        "Tipe tipe operator :\n",
        "1. Operator Aritmatika\n",
        "2. Operator Assignment\n",
        "3. Operator Pembanding\n",
        "4. Operator Logika\n",
        "5. Operator Membership"
      ]
    },
    {
      "cell_type": "markdown",
      "metadata": {
        "id": "65Rt3rzI0FBt"
      },
      "source": [
        "## Operator Aritmatika\n",
        "\n",
        "Operator Aritmatika digunakan untuk melkaukan operasi matematika yang umum. \n",
        "\n",
        "Macam macam Operator Aritmatika, yaitu :\n",
        "\n",
        "```\n",
        "+ : Penjumlahan\n",
        "- : Pengurangan\n",
        "* :Perkalian\n",
        "/ : Pembagian\n",
        "% : Modulus\n",
        "**: Perpangkatan\n",
        "//: Pembagian dengan hasil pembulatan flooring\n",
        "```\n",
        "\n"
      ]
    },
    {
      "cell_type": "code",
      "metadata": {
        "id": "Hpo8f5yX1BM2"
      },
      "source": [
        "#Contoh Penggunaan Operator Aritmatika\n",
        "#Penjumlahan \n",
        "print('Penjumlahan')\n",
        "print(2+2)\n",
        "#Pengurangan\n",
        "print('Pengurangan')\n",
        "print('-'*20)\n",
        "print(2-3)\n",
        "#Perkalian \n",
        "print('Perkalian')\n",
        "print('-'*20)\n",
        "print(2*3)\n",
        "#Pembagian \n",
        "print('Pembagian')\n",
        "print('-'*20)\n",
        "print(2/3)\n",
        "#Modulus\n",
        "print('Modulus')\n",
        "print('-'*20)\n",
        "print(3%2)\n",
        "#Perpangkatan\n",
        "print('Perpangkatan')\n",
        "print('-'*20)\n",
        "print(2**3)\n",
        "#Pembagian dengan hasil pembulatan flooring\n",
        "print('Pembagian pembulatan flooring')\n",
        "print('-'*20)\n",
        "print(3//2)"
      ],
      "execution_count": null,
      "outputs": []
    },
    {
      "cell_type": "markdown",
      "metadata": {
        "id": "RBLLqwJx15zj"
      },
      "source": [
        "### Latihan Operator 1\n"
      ]
    },
    {
      "cell_type": "code",
      "metadata": {
        "colab": {
          "base_uri": "https://localhost:8080/"
        },
        "id": "TgtRSlcF2KgD",
        "outputId": "7992cb5a-588f-4ee5-c2da-0184b102ba11"
      },
      "source": [
        "#Buatlah Program penerapan operator Aritmatika \n",
        "#dengan nilai - nilai  yang berbeda dari contoh diatas\n",
        "\n",
        "#Penjumlahan \n",
        "print('Penjumlahan')\n",
        "print(12+3)\n",
        "#Pengurangan\n",
        "print('Pengurangan')\n",
        "print('-'*20)\n",
        "print(20-8)\n",
        "#Perkalian \n",
        "print('Perkalian')\n",
        "print('-'*20)\n",
        "print(12*3)\n",
        "#Pembagian \n",
        "print('Pembagian')\n",
        "print('-'*20)\n",
        "print(80/6)\n",
        "#Modulus\n",
        "print('Modulus')\n",
        "print('-'*20)\n",
        "print(3%6)\n",
        "#Perpangkatan\n",
        "print('Perpangkatan')\n",
        "print('-'*20)\n",
        "print(2**10)\n",
        "#Pembagian dengan hasil pembulatan flooring\n",
        "print('Pembagian pembulatan flooring')\n",
        "print('-'*20)\n",
        "print(8//3)"
      ],
      "execution_count": null,
      "outputs": [
        {
          "output_type": "stream",
          "name": "stdout",
          "text": [
            "Penjumlahan\n",
            "15\n",
            "Pengurangan\n",
            "--------------------\n",
            "12\n",
            "Perkalian\n",
            "--------------------\n",
            "36\n",
            "Pembagian\n",
            "--------------------\n",
            "13.333333333333334\n",
            "Modulus\n",
            "--------------------\n",
            "3\n",
            "Perpangkatan\n",
            "--------------------\n",
            "1024\n",
            "Pembagian pembulatan flooring\n",
            "--------------------\n",
            "2\n"
          ]
        }
      ]
    },
    {
      "cell_type": "markdown",
      "metadata": {
        "id": "TGiht6KY2e9A"
      },
      "source": [
        "## Operator Assignment\n",
        "Operator ```Assignment``` digunakan untuk menyimpan nilai menjadi suatu variabel\n",
        "\n",
        "\n",
        "\n",
        "```\n",
        "= : Contohnya x = 5 -> x = 5\n",
        "+= : Contohnya x = x + 5 -> x += 5\n",
        "-= : Contohnya x = x - 5 -> x -= 5\n",
        "*= : Contohnya x = x * 5 -> x *= 5\n",
        "/= : Contohnya x = x / 5 -> x /= 5\n",
        "%= : Contohnya x = x % 5 -> x %= 5\n",
        "//= : Contohnya x = x // 5 -> x //= 5\n",
        "**= : Contohnya x = x ** 5 -> x **= 5\n",
        "```\n",
        "\n"
      ]
    },
    {
      "cell_type": "code",
      "metadata": {
        "id": "t0dI7cRT2iE7"
      },
      "source": [
        "#Contoh Penggunaan Operator Assignment\n",
        "\n",
        "#Penjumlahan\n",
        "print('Penjumlahan')\n",
        "x=5\n",
        "x=x+5\n",
        "print(x)\n",
        "x=5\n",
        "x+=3\n",
        "print(x)\n",
        "print('-'*20)\n",
        "\n",
        "#Pengurangan\n",
        "print('Pengurangan')\n",
        "x=5\n",
        "x=x-5\n",
        "print(x)\n",
        "x=5\n",
        "x-=3\n",
        "print(x)\n",
        "print('-'*20)\n",
        "\n",
        "#Perkalian\n",
        "print('Pengurangan')\n",
        "x=5\n",
        "x=x*5\n",
        "print(x)\n",
        "x=5\n",
        "x*=3\n",
        "print(x)\n",
        "print('-'*20)\n",
        "\n",
        "#Pembagian\n",
        "print('Pengurangan')\n",
        "x=5\n",
        "x=x/5\n",
        "print(x)\n",
        "x=5\n",
        "x/=3\n",
        "print(x)\n",
        "print('-'*20)\n",
        "\n",
        "#Modulus\n",
        "print('Pengurangan')\n",
        "x=5\n",
        "x=x%5\n",
        "print(x)\n",
        "x=5\n",
        "x%=3\n",
        "print(x)\n",
        "print('-'*20)\n",
        "\n",
        "#Pembagian Flooring\n",
        "print('Pengurangan')\n",
        "x=5\n",
        "x=x//5\n",
        "print(x)\n",
        "x=5\n",
        "x//=3\n",
        "print(x)\n",
        "print('-'*20)\n",
        "\n",
        "#Perpangkatan\n",
        "print('Perpangkatan')\n",
        "x=5\n",
        "x=x**5\n",
        "print(x)\n",
        "x=5\n",
        "x**=3\n",
        "print(x)\n",
        "print('-'*20)"
      ],
      "execution_count": null,
      "outputs": []
    },
    {
      "cell_type": "markdown",
      "metadata": {
        "id": "NHbR5ms53cUX"
      },
      "source": [
        "###Latihan Operator 2"
      ]
    },
    {
      "cell_type": "code",
      "metadata": {
        "id": "37v7yizd3ipy"
      },
      "source": [
        "# Buatlah program penerapan operator assignment\n",
        "# dengan nilai niali yang berbeda  dari contoh diatas\n"
      ],
      "execution_count": null,
      "outputs": []
    },
    {
      "cell_type": "code",
      "metadata": {
        "colab": {
          "base_uri": "https://localhost:8080/"
        },
        "id": "xS4EKIcagZJ4",
        "outputId": "6a935863-a626-43aa-d21c-00ad8bab51a6"
      },
      "source": [
        "#Penjumlahan\n",
        "print('Penjumlahan')\n",
        "x=4\n",
        "x=x+4\n",
        "print(x)\n",
        "x=4\n",
        "x+=6\n",
        "print(x)\n",
        "print('-'*20)\n",
        "\n",
        "#Pengurangan\n",
        "print('Pengurangan')\n",
        "x=4\n",
        "x=x-4\n",
        "print(x)\n",
        "x=4\n",
        "x-=6\n",
        "print(x)\n",
        "print('-'*20)\n",
        "\n",
        "#Perkalian\n",
        "print('Pengurangan')\n",
        "x=4\n",
        "x=x*4\n",
        "print(x)\n",
        "x=4\n",
        "x*=6\n",
        "print(x)\n",
        "print('-'*20)\n",
        "\n",
        "#Pembagian\n",
        "print('Pengurangan')\n",
        "x=4\n",
        "x=x/4\n",
        "print(x)\n",
        "x=4\n",
        "x/=6\n",
        "print(x)\n",
        "print('-'*20)\n",
        "\n",
        "#Modulus\n",
        "print('Pengurangan')\n",
        "x=4\n",
        "x=x%6\n",
        "print(x)\n",
        "x=4\n",
        "x%=6\n",
        "print(x)\n",
        "print('-'*20)\n",
        "\n",
        "#Pembagian Flooring\n",
        "print('Pengurangan')\n",
        "x=4\n",
        "x=x//4\n",
        "print(x)\n",
        "x=4\n",
        "x//=6\n",
        "print(x)\n",
        "print('-'*20)\n",
        "\n",
        "#Perpangkatan\n",
        "print('Perpangkatan')\n",
        "x=4\n",
        "x=x**4\n",
        "print(x)\n",
        "x=4\n",
        "x**=6\n",
        "print(x)\n",
        "print('-'*20)\n"
      ],
      "execution_count": null,
      "outputs": [
        {
          "output_type": "stream",
          "name": "stdout",
          "text": [
            "Penjumlahan\n",
            "8\n",
            "10\n",
            "--------------------\n",
            "Pengurangan\n",
            "0\n",
            "-2\n",
            "--------------------\n",
            "Pengurangan\n",
            "16\n",
            "24\n",
            "--------------------\n",
            "Pengurangan\n",
            "1.0\n",
            "0.6666666666666666\n",
            "--------------------\n",
            "Pengurangan\n",
            "4\n",
            "4\n",
            "--------------------\n",
            "Pengurangan\n",
            "1\n",
            "0\n",
            "--------------------\n",
            "Perpangkatan\n",
            "256\n",
            "4096\n",
            "--------------------\n"
          ]
        }
      ]
    },
    {
      "cell_type": "markdown",
      "metadata": {
        "id": "zpAJKFpi3yPP"
      },
      "source": [
        "## Operator Pembanding\n",
        "Operator Pembanding digunakan untuk membandingkan 2 nilai atau variabel\n",
        "\n",
        "Macam macam Operator pembanding :\n",
        "\n",
        "```\n",
        "== -> samadengan\n",
        "!= -> tidak samadengan\n",
        "> -> lebih dari\n",
        "< -> kurang dari\n",
        ">= lebih dari dan samadengan\n",
        "<= kurang dari dan samadengan\n",
        "```\n",
        "\n",
        "\n"
      ]
    },
    {
      "cell_type": "code",
      "metadata": {
        "id": "N2EVRNg63oby"
      },
      "source": [
        "# Contoh penggunaan operator pembanding\n",
        "\n",
        "print(2==2)\n",
        "print(2!=2)\n",
        "print(2>2)\n",
        "print(2<2)\n",
        "print(2>=2)\n",
        "print(2<=2)"
      ],
      "execution_count": null,
      "outputs": []
    },
    {
      "cell_type": "markdown",
      "metadata": {
        "id": "f3wRlq7x4X2-"
      },
      "source": [
        "###Latihan Operator 3"
      ]
    },
    {
      "cell_type": "code",
      "metadata": {
        "id": "ulb1PgMl4emq"
      },
      "source": [
        "# Buatlah program penerapan operator pembanding\n",
        "# dengan nilai niali yang berbeda  dari contoh diatas"
      ],
      "execution_count": null,
      "outputs": []
    },
    {
      "cell_type": "code",
      "metadata": {
        "colab": {
          "base_uri": "https://localhost:8080/"
        },
        "id": "XQukjKmYhIEm",
        "outputId": "5bd1aa3e-c6cd-4a86-cd88-77b21818b81e"
      },
      "source": [
        "print(8==8)\n",
        "print(8!=8)\n",
        "print(8>8)\n",
        "print(8<8)\n",
        "print(8>=8)\n",
        "print(8<=8)"
      ],
      "execution_count": null,
      "outputs": [
        {
          "output_type": "stream",
          "name": "stdout",
          "text": [
            "True\n",
            "False\n",
            "False\n",
            "False\n",
            "True\n",
            "True\n"
          ]
        }
      ]
    },
    {
      "cell_type": "markdown",
      "metadata": {
        "id": "-_y1mEDn4peL"
      },
      "source": [
        "## Operator Logika\n",
        "Operator logika digunakan untuk mengkombinasikan  statement statement kondisional\n",
        "\n",
        "Macam macam opertaor logika :\n",
        "\n",
        "```\n",
        "and -> kondisi menjadi benar apabila semua statementnya benar\n",
        "or -> kondisi menjadi benar apabila salah satu statementnya ada yang benar\n",
        "not -> membalik hasil adri benar ke salah dan salah ke benar\n",
        "```\n",
        "\n"
      ]
    },
    {
      "cell_type": "code",
      "metadata": {
        "id": "OO1WyBst4tYt"
      },
      "source": [
        "# Contoh penggunaan operator loogika\n",
        "\n",
        "print(True and False)\n",
        "print(False or False)\n",
        "print(not False and True)"
      ],
      "execution_count": null,
      "outputs": []
    },
    {
      "cell_type": "markdown",
      "metadata": {
        "id": "r8-4csxI5ADD"
      },
      "source": [
        "###Latihan Operator 4"
      ]
    },
    {
      "cell_type": "code",
      "metadata": {
        "id": "Gv0Jl33b5Ecn"
      },
      "source": [
        "# Buatlah program penerapan operator logika\n",
        "# dengan nilai niali yang berbeda dari contoh diatas"
      ],
      "execution_count": null,
      "outputs": []
    },
    {
      "cell_type": "code",
      "metadata": {
        "colab": {
          "base_uri": "https://localhost:8080/"
        },
        "id": "hHp2gOqVhmfC",
        "outputId": "bb4c58db-d79f-4b38-d1bb-debb9b2bb42b"
      },
      "source": [
        "print(False and True)\n",
        "print(True or True)\n",
        "print(not True and False)"
      ],
      "execution_count": null,
      "outputs": [
        {
          "output_type": "stream",
          "name": "stdout",
          "text": [
            "False\n",
            "True\n",
            "False\n"
          ]
        }
      ]
    },
    {
      "cell_type": "markdown",
      "metadata": {
        "id": "h2-AmpOv5Nqa"
      },
      "source": [
        "## Operator Membership / Keanggotaan\n",
        "Operator keanggotaan digunakan untuk menguji apakah urutan disajikan dalam suatu objek \n",
        "\n",
        "Macam macam operator Keanggotaan :\n",
        "\n",
        "```\n",
        "in      -> return True ketika nilai tertentu dalam sebuah urutan ada\n",
        "not in  -> return True ketika nilai tertentu dalam sebuah uruta tidak ada\n",
        "```\n",
        "\n"
      ]
    },
    {
      "cell_type": "code",
      "metadata": {
        "id": "YBzvtQhw5Ti6"
      },
      "source": [
        "# Contoh penggunaan operator keanggotaan\n",
        "a=(1,2,3,4,5,6)\n",
        "b=2\n",
        "\n",
        "print(b in a)\n",
        "\n",
        "\n",
        "print('-'*20)\n",
        "a=(1,2,3,4,5,6)\n",
        "b=7\n",
        "print(b not in a)"
      ],
      "execution_count": null,
      "outputs": []
    },
    {
      "cell_type": "markdown",
      "metadata": {
        "id": "aKUxTw_c5wlS"
      },
      "source": [
        "###Latihan operator 5"
      ]
    },
    {
      "cell_type": "code",
      "metadata": {
        "id": "23m9ur_d58O4"
      },
      "source": [
        "# # Buatlah program penerapan operator keanggotaan  membership\n",
        "# dengan nilai niali yang berbeda dari contoh diatas"
      ],
      "execution_count": null,
      "outputs": []
    },
    {
      "cell_type": "code",
      "metadata": {
        "colab": {
          "base_uri": "https://localhost:8080/"
        },
        "id": "wk889VA1h0vi",
        "outputId": "ff96fb4e-0e9e-442c-cb1f-23b9fa976ec8"
      },
      "source": [
        "a=(2,3,5,7,9,11,13,17)\n",
        "b=5\n",
        "\n",
        "print(b in a)\n",
        "\n",
        "\n",
        "print('-'*20)\n",
        "a=(2,3,5,7,9,11,13,17)\n",
        "b=7\n",
        "print(b not in a)"
      ],
      "execution_count": null,
      "outputs": [
        {
          "output_type": "stream",
          "name": "stdout",
          "text": [
            "True\n",
            "--------------------\n",
            "False\n"
          ]
        }
      ]
    }
  ]
}